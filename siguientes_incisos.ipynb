{
 "cells": [
  {
   "cell_type": "code",
   "execution_count": 11,
   "id": "ec1e93ca",
   "metadata": {},
   "outputs": [],
   "source": [
    "from sklearn.model_selection import train_test_split\n",
    "from sklearn.linear_model import LinearRegression\n",
    "import matplotlib.pyplot as plt\n",
    "import random\n",
    "import numpy as np\n",
    "import pandas as pd"
   ]
  },
  {
   "cell_type": "code",
   "execution_count": 12,
   "id": "9f24a2eb",
   "metadata": {},
   "outputs": [],
   "source": [
    "datos = pd.read_csv(\"train.csv\", encoding=\"latin1\")"
   ]
  },
  {
   "cell_type": "code",
   "execution_count": 24,
   "id": "5c2b628a",
   "metadata": {},
   "outputs": [
    {
     "data": {
      "text/plain": [
       "<AxesSubplot: >"
      ]
     },
     "execution_count": 24,
     "metadata": {},
     "output_type": "execute_result"
    },
    {
     "data": {
      "image/png": "[encoded data removed]",
      "text/plain": [
       "<Figure size 640x480 with 1 Axes>"
      ]
     },
     "metadata": {},
     "output_type": "display_data"
    }
   ],
   "source": [
    "numericas = datos.select_dtypes(include='number')\n",
    "X = numericas.drop(\"SalePrice\", axis=1)\n",
    "Y = numericas\n",
    "X_train, X_test, y_train, y_test = train_test_split(X, Y, test_size=0.3,train_size=0.7)\n",
    "y_train[\"SalePrice\"].hist()\n",
    "y_test[\"SalePrice\"].hist()\n"
   ]
  },
  {
   "cell_type": "markdown",
   "id": "c9216ec7",
   "metadata": {},
   "source": [
    "INCISO 5 \n",
    "Esto calcula la matriz de correlación solo para las características de total_SF, age y SalePrice,LotArea ,OverallQual, YearRemodAdd, TotalBsmtSF, 1stFlrSF, 2ndFlrSF, FullBat, GarageCars y ordenará las correlaciones por orden descendente con respecto a la columna SalePrice.\n",
    "y para  la selección de las variables más importantes para predecir el precio de una casa están basas en su correlación con el precio."
   ]
  },
  {
   "cell_type": "code",
   "execution_count": 8,
   "id": "0174f018",
   "metadata": {},
   "outputs": [
    {
     "data": {
      "text/plain": [
       "SalePrice       1.000000\n",
       "OverallQual     0.790982\n",
       "total_SF        0.782260\n",
       "GrLivArea       0.708624\n",
       "GarageCars      0.640409\n",
       "TotalBsmtSF     0.613581\n",
       "1stFlrSF        0.605852\n",
       "FullBath        0.560664\n",
       "TotRmsAbvGrd    0.533723\n",
       "YearRemodAdd    0.507101\n",
       "2ndFlrSF        0.319334\n",
       "LotArea         0.263843\n",
       "age            -0.522897\n",
       "Name: SalePrice, dtype: float64"
      ]
     },
     "execution_count": 8,
     "metadata": {},
     "output_type": "execute_result"
    }
   ],
   "source": [
    "corr_matrix = datos[['total_SF', 'age', 'LotArea', 'OverallQual', 'YearRemodAdd', 'TotalBsmtSF', \n",
    "                     '1stFlrSF', '2ndFlrSF', 'GrLivArea', 'FullBath', 'TotRmsAbvGrd', 'GarageCars', 'SalePrice']].corr()\n",
    "corr_matrix[\"SalePrice\"].sort_values(ascending=False)\n"
   ]
  },
  {
   "cell_type": "code",
   "execution_count": 9,
   "id": "fdc81fce",
   "metadata": {},
   "outputs": [
    {
     "name": "stdout",
     "output_type": "stream",
     "text": [
      "Coeficientes: [ 1.65531341e+01 -2.85351724e+02  6.36646096e-01  2.03291216e+04\n",
      "  3.26898190e+02 -3.03180573e+00  1.59258827e+01  3.65905713e+00\n",
      "  2.56096972e+01 -7.36197744e+03  5.87904201e+02  1.39762990e+04]\n",
      "Intercepto: -699544.2480192141\n",
      "R^2 en entrenamiento: 0.7715377573341753\n",
      "R^2 en prueba: 0.7983537346670326\n"
     ]
    }
   ],
   "source": [
    "np.random.seed(42)\n",
    "# Ingeniería de características\n",
    "datos['total_SF'] = datos['1stFlrSF'] + datos['2ndFlrSF'] + datos['TotalBsmtSF']\n",
    "datos['age'] = 2023 - datos['YearBuilt']\n",
    "# Seleccionar variables importantes\n",
    "variables = ['total_SF', 'age', 'LotArea', 'OverallQual', 'YearRemodAdd', 'TotalBsmtSF', \n",
    "             '1stFlrSF', '2ndFlrSF', 'GrLivArea', 'FullBath', 'TotRmsAbvGrd', 'GarageCars']\n",
    "X = datos[variables].values\n",
    "y = datos['SalePrice'].values\n",
    "\n",
    "# Separar en conjuntos de entrenamiento y prueba\n",
    "X_train, X_test, y_train, y_test = train_test_split(X, y, test_size=0.2, random_state=42)\n",
    "\n",
    "# Entrenar el modelo\n",
    "modelo = LinearRegression()\n",
    "modelo.fit(X_train, y_train)\n",
    "\n",
    "# Evaluar el modelo\n",
    "score_train = modelo.score(X_train, y_train)\n",
    "score_test = modelo.score(X_test, y_test)\n",
    "\n",
    "print(\"Coeficientes:\", modelo.coef_)\n",
    "print(\"Intercepto:\", modelo.intercept_)\n",
    "print(\"R^2 en entrenamiento:\", score_train)\n",
    "print(\"R^2 en prueba:\", score_test)"
   ]
  },
  {
   "cell_type": "code",
   "execution_count": 10,
   "id": "17b414f7",
   "metadata": {},
   "outputs": [
    {
     "name": "stdout",
     "output_type": "stream",
     "text": [
      "Coeficientes: [ 1.65531341e+01 -2.85351724e+02  6.36646096e-01  2.03291216e+04\n",
      "  3.26898190e+02 -3.03180573e+00  1.59258827e+01  3.65905713e+00\n",
      "  2.56096972e+01 -7.36197744e+03  5.87904201e+02  1.39762990e+04]\n",
      "Intercepto: -699544.2480192141\n",
      "R^2 en entrenamiento: 0.7715377573341753\n",
      "R^2 en prueba: 0.7983537346670326\n"
     ]
    }
   ],
   "source": []
  },
  {
   "cell_type": "code",
   "execution_count": null,
   "id": "5f42f97c",
   "metadata": {},
   "outputs": [],
   "source": [
    "regresion = LinearRegression()\n",
    "regresion.fit(X_train, y_train)\n",
    "y_pred = regresion.predict(X_test)"
   ]
  },
  {
   "cell_type": "code",
   "execution_count": null,
   "id": "2e0f35b8",
   "metadata": {},
   "outputs": [],
   "source": []
  }
 ],
 "metadata": {
  "kernelspec": {
   "display_name": "Python 3 (ipykernel)",
   "language": "python",
   "name": "python3"
  },
  "language_info": {
   "codemirror_mode": {
    "name": "ipython",
    "version": 3
   },
   "file_extension": ".py",
   "mimetype": "text/x-python",
   "name": "python",
   "nbconvert_exporter": "python",
   "pygments_lexer": "ipython3",
   "version": "3.11.1"
  }
 },
 "nbformat": 4,
 "nbformat_minor": 5
}
