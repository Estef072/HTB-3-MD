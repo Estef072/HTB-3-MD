{
 "cells": [
  {
   "attachments": {},
   "cell_type": "markdown",
   "metadata": {},
   "source": [
    "Analisis exploratorio"
   ]
  },
  {
   "cell_type": "code",
   "execution_count": 2,
   "metadata": {},
   "outputs": [],
   "source": [
    "import numpy as np\n",
    "import pandas as pd\n",
    "import matplotlib.pyplot as plt\n",
    "import scipy.stats as stats\n",
    "import statsmodels.stats.diagnostic as diag\n",
    "import statsmodels.api as sm"
   ]
  },
  {
   "cell_type": "code",
   "execution_count": 10,
   "metadata": {},
   "outputs": [
    {
     "name": "stdout",
     "output_type": "stream",
     "text": [
      "Id \t\t int64\n",
      "MSSubClass \t\t int64\n",
      "MSZoning \t\t object\n",
      "LotFrontage \t\t float64\n",
      "LotArea \t\t int64\n",
      "Street \t\t object\n",
      "Alley \t\t object\n",
      "LotShape \t\t object\n",
      "LandContour \t\t object\n",
      "Utilities \t\t object\n",
      "LotConfig \t\t object\n",
      "LandSlope \t\t object\n",
      "Neighborhood \t\t object\n",
      "Condition1 \t\t object\n",
      "Condition2 \t\t object\n",
      "BldgType \t\t object\n",
      "HouseStyle \t\t object\n",
      "OverallQual \t\t int64\n",
      "OverallCond \t\t int64\n",
      "YearBuilt \t\t int64\n",
      "YearRemodAdd \t\t int64\n",
      "RoofStyle \t\t object\n",
      "RoofMatl \t\t object\n",
      "Exterior1st \t\t object\n",
      "Exterior2nd \t\t object\n",
      "MasVnrType \t\t object\n",
      "MasVnrArea \t\t float64\n",
      "ExterQual \t\t object\n",
      "ExterCond \t\t object\n",
      "Foundation \t\t object\n",
      "BsmtQual \t\t object\n",
      "BsmtCond \t\t object\n",
      "BsmtExposure \t\t object\n",
      "BsmtFinType1 \t\t object\n",
      "BsmtFinSF1 \t\t int64\n",
      "BsmtFinType2 \t\t object\n",
      "BsmtFinSF2 \t\t int64\n",
      "BsmtUnfSF \t\t int64\n",
      "TotalBsmtSF \t\t int64\n",
      "Heating \t\t object\n",
      "HeatingQC \t\t object\n",
      "CentralAir \t\t object\n",
      "Electrical \t\t object\n",
      "1stFlrSF \t\t int64\n",
      "2ndFlrSF \t\t int64\n",
      "LowQualFinSF \t\t int64\n",
      "GrLivArea \t\t int64\n",
      "BsmtFullBath \t\t int64\n",
      "BsmtHalfBath \t\t int64\n",
      "FullBath \t\t int64\n",
      "HalfBath \t\t int64\n",
      "BedroomAbvGr \t\t int64\n",
      "KitchenAbvGr \t\t int64\n",
      "KitchenQual \t\t object\n",
      "TotRmsAbvGrd \t\t int64\n",
      "Functional \t\t object\n",
      "Fireplaces \t\t int64\n",
      "FireplaceQu \t\t object\n",
      "GarageType \t\t object\n",
      "GarageYrBlt \t\t float64\n",
      "GarageFinish \t\t object\n",
      "GarageCars \t\t int64\n",
      "GarageArea \t\t int64\n",
      "GarageQual \t\t object\n",
      "GarageCond \t\t object\n",
      "PavedDrive \t\t object\n",
      "WoodDeckSF \t\t int64\n",
      "OpenPorchSF \t\t int64\n",
      "EnclosedPorch \t\t int64\n",
      "3SsnPorch \t\t int64\n",
      "ScreenPorch \t\t int64\n",
      "PoolArea \t\t int64\n",
      "PoolQC \t\t object\n",
      "Fence \t\t object\n",
      "MiscFeature \t\t object\n",
      "MiscVal \t\t int64\n",
      "MoSold \t\t int64\n",
      "YrSold \t\t int64\n",
      "SaleType \t\t object\n",
      "SaleCondition \t\t object\n",
      "SalePrice \t\t int64\n"
     ]
    }
   ],
   "source": [
    "datos = pd.read_csv(\"train.csv\", encoding=\"latin1\")\n",
    "datos.describe()\n",
    "#np.mean(datos[\"LotArea\"])\n",
    "#np.mean(datos[\"SalePrice\"])  '''\n",
    "#SalePrice_mean: \n",
    "\n",
    "#datos.head()\n",
    "columnas = list(datos.columns)\n",
    "tipos = list(datos.dtypes)\n",
    "\n",
    "    \n",
    "result = df.select_dtypes(include='number')\n"
   ]
  },
  {
   "cell_type": "markdown",
   "metadata": {},
   "source": []
  }
 ],
 "metadata": {
  "kernelspec": {
   "display_name": "Python 3",
   "language": "python",
   "name": "python3"
  },
  "language_info": {
   "codemirror_mode": {
    "name": "ipython",
    "version": 3
   },
   "file_extension": ".py",
   "mimetype": "text/x-python",
   "name": "python",
   "nbconvert_exporter": "python",
   "pygments_lexer": "ipython3",
   "version": "3.10.0"
  },
  "orig_nbformat": 4,
  "vscode": {
   "interpreter": {
    "hash": "7613b7b53fe3c82445b170b325c95c9a1fab3349f6dbf0989ede3d2322ba93e2"
   }
  }
 },
 "nbformat": 4,
 "nbformat_minor": 2
}
